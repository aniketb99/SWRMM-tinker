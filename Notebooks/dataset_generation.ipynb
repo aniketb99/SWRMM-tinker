{
 "cells": [
  {
   "cell_type": "code",
   "execution_count": 2,
   "metadata": {},
   "outputs": [],
   "source": [
    "import itertools\n",
    "import numpy as np\n",
    "import pandas as pd\n",
    "import random"
   ]
  },
  {
   "cell_type": "code",
   "execution_count": 3,
   "metadata": {},
   "outputs": [
    {
     "ename": "MemoryError",
     "evalue": "",
     "output_type": "error",
     "traceback": [
      "\u001b[1;31m---------------------------------------------------------------------------\u001b[0m",
      "\u001b[1;31mMemoryError\u001b[0m                               Traceback (most recent call last)",
      "Cell \u001b[1;32mIn[3], line 33\u001b[0m\n\u001b[0;32m     30\u001b[0m         \u001b[38;5;28;01mbreak\u001b[39;00m\n\u001b[0;32m     32\u001b[0m \u001b[38;5;66;03m# Generate all combinations for each subcatchment parameter\u001b[39;00m\n\u001b[1;32m---> 33\u001b[0m parameter_combinations \u001b[38;5;241m=\u001b[39m \u001b[38;5;28;43mlist\u001b[39;49m\u001b[43m(\u001b[49m\u001b[43mitertools\u001b[49m\u001b[38;5;241;43m.\u001b[39;49m\u001b[43mproduct\u001b[49m\u001b[43m(\u001b[49m\n\u001b[0;32m     34\u001b[0m \u001b[43m    \u001b[49m\u001b[43mitertools\u001b[49m\u001b[38;5;241;43m.\u001b[39;49m\u001b[43mproduct\u001b[49m\u001b[43m(\u001b[49m\u001b[43marea\u001b[49m\u001b[43m,\u001b[49m\u001b[43m \u001b[49m\u001b[43mrepeat\u001b[49m\u001b[38;5;241;43m=\u001b[39;49m\u001b[43mnum_subcatchments\u001b[49m\u001b[43m)\u001b[49m\u001b[43m,\u001b[49m\n\u001b[0;32m     35\u001b[0m \u001b[43m    \u001b[49m\u001b[43mitertools\u001b[49m\u001b[38;5;241;43m.\u001b[39;49m\u001b[43mproduct\u001b[49m\u001b[43m(\u001b[49m\u001b[43mimperviousness\u001b[49m\u001b[43m,\u001b[49m\u001b[43m \u001b[49m\u001b[43mrepeat\u001b[49m\u001b[38;5;241;43m=\u001b[39;49m\u001b[43mnum_subcatchments\u001b[49m\u001b[43m)\u001b[49m\u001b[43m,\u001b[49m\n\u001b[0;32m     36\u001b[0m \u001b[43m    \u001b[49m\u001b[43mitertools\u001b[49m\u001b[38;5;241;43m.\u001b[39;49m\u001b[43mproduct\u001b[49m\u001b[43m(\u001b[49m\u001b[43mslope\u001b[49m\u001b[43m,\u001b[49m\u001b[43m \u001b[49m\u001b[43mrepeat\u001b[49m\u001b[38;5;241;43m=\u001b[39;49m\u001b[43mnum_subcatchments\u001b[49m\u001b[43m)\u001b[49m\u001b[43m,\u001b[49m\n\u001b[0;32m     37\u001b[0m \u001b[43m    \u001b[49m\u001b[43mitertools\u001b[49m\u001b[38;5;241;43m.\u001b[39;49m\u001b[43mproduct\u001b[49m\u001b[43m(\u001b[49m\u001b[43mmax_rate\u001b[49m\u001b[43m,\u001b[49m\u001b[43m \u001b[49m\u001b[43mrepeat\u001b[49m\u001b[38;5;241;43m=\u001b[39;49m\u001b[43mnum_subcatchments\u001b[49m\u001b[43m)\u001b[49m\u001b[43m,\u001b[49m\n\u001b[0;32m     38\u001b[0m \u001b[43m    \u001b[49m\u001b[43mitertools\u001b[49m\u001b[38;5;241;43m.\u001b[39;49m\u001b[43mproduct\u001b[49m\u001b[43m(\u001b[49m\u001b[43mmin_rate\u001b[49m\u001b[43m,\u001b[49m\u001b[43m \u001b[49m\u001b[43mrepeat\u001b[49m\u001b[38;5;241;43m=\u001b[39;49m\u001b[43mnum_subcatchments\u001b[49m\u001b[43m)\u001b[49m\u001b[43m,\u001b[49m\n\u001b[0;32m     39\u001b[0m \u001b[43m    \u001b[49m\u001b[43mitertools\u001b[49m\u001b[38;5;241;43m.\u001b[39;49m\u001b[43mproduct\u001b[49m\u001b[43m(\u001b[49m\u001b[43mn_imperv\u001b[49m\u001b[43m,\u001b[49m\u001b[43m \u001b[49m\u001b[43mrepeat\u001b[49m\u001b[38;5;241;43m=\u001b[39;49m\u001b[43mnum_subcatchments\u001b[49m\u001b[43m)\u001b[49m\u001b[43m,\u001b[49m\n\u001b[0;32m     40\u001b[0m \u001b[43m    \u001b[49m\u001b[43mitertools\u001b[49m\u001b[38;5;241;43m.\u001b[39;49m\u001b[43mproduct\u001b[49m\u001b[43m(\u001b[49m\u001b[43mn_perv\u001b[49m\u001b[43m,\u001b[49m\u001b[43m \u001b[49m\u001b[43mrepeat\u001b[49m\u001b[38;5;241;43m=\u001b[39;49m\u001b[43mnum_subcatchments\u001b[49m\u001b[43m)\u001b[49m\u001b[43m,\u001b[49m\n\u001b[0;32m     41\u001b[0m \u001b[43m    \u001b[49m\u001b[43mitertools\u001b[49m\u001b[38;5;241;43m.\u001b[39;49m\u001b[43mproduct\u001b[49m\u001b[43m(\u001b[49m\u001b[43ms_imperv\u001b[49m\u001b[43m,\u001b[49m\u001b[43m \u001b[49m\u001b[43mrepeat\u001b[49m\u001b[38;5;241;43m=\u001b[39;49m\u001b[43mnum_subcatchments\u001b[49m\u001b[43m)\u001b[49m\u001b[43m,\u001b[49m\n\u001b[0;32m     42\u001b[0m \u001b[43m    \u001b[49m\u001b[43mitertools\u001b[49m\u001b[38;5;241;43m.\u001b[39;49m\u001b[43mproduct\u001b[49m\u001b[43m(\u001b[49m\u001b[43ms_perv\u001b[49m\u001b[43m,\u001b[49m\u001b[43m \u001b[49m\u001b[43mrepeat\u001b[49m\u001b[38;5;241;43m=\u001b[39;49m\u001b[43mnum_subcatchments\u001b[49m\u001b[43m)\u001b[49m\n\u001b[0;32m     43\u001b[0m \u001b[43m)\u001b[49m\u001b[43m)\u001b[49m\n\u001b[0;32m     45\u001b[0m \u001b[38;5;66;03m# Limit the number of combinations due to memory constraints (optional)\u001b[39;00m\n\u001b[0;32m     46\u001b[0m sample_size \u001b[38;5;241m=\u001b[39m \u001b[38;5;28mmin\u001b[39m(\u001b[38;5;28mlen\u001b[39m(parameter_combinations), \u001b[38;5;241m100\u001b[39m)\n",
      "\u001b[1;31mMemoryError\u001b[0m: "
     ]
    }
   ],
   "source": [
    "# Number of subcatchments as per your input file\n",
    "num_subcatchments = 8\n",
    "\n",
    "# Define the ranges for each parameter\n",
    "area = np.linspace(5, 50, num=3)  # 3 different areas\n",
    "imperviousness = np.linspace(20, 100, num=3)  # 3 different imperviousness percentages\n",
    "slope = np.linspace(0.5, 10, num=3)  # 3 different slopes\n",
    "max_rate = np.linspace(0.1, 0.7, num=3)  # 3 different max infiltration rates\n",
    "min_rate = np.linspace(0.05, 0.5, num=3)  # 3 different min infiltration rates\n",
    "n_imperv = np.linspace(0.01, 0.05, num=3)  # 3 different Manning's n for impervious areas\n",
    "n_perv = np.linspace(0.05, 0.2, num=3)  # 3 different Manning's n for pervious areas\n",
    "s_imperv = np.linspace(0.01, 0.1, num=3)  # 3 different depressional storage for impervious areas\n",
    "s_perv = np.linspace(0.05, 0.2, num=3)  # 3 different depressional storage for pervious areas\n",
    "\n",
    "# Define 10 distinct rainfall time series patterns\n",
    "rainfall_patterns = []\n",
    "for initial, peak, rise_time, fall_time in itertools.product(\n",
    "    np.linspace(0.1, 0.3, 2),  # Initial intensity\n",
    "    np.linspace(0.5, 2.0, 2),  # Peak intensity\n",
    "    np.linspace(2, 6, 2),      # Time to peak\n",
    "    np.linspace(2, 6, 2)       # Time after peak\n",
    "):\n",
    "    if len(rainfall_patterns) < 10:  # Limit to 10 patterns\n",
    "        pattern = np.concatenate([\n",
    "            np.linspace(initial, peak, int(rise_time)),\n",
    "            np.linspace(peak, 0, int(fall_time))\n",
    "        ])\n",
    "        rainfall_patterns.append(pattern)\n",
    "    else:\n",
    "        break\n",
    "\n",
    "# Generate all combinations for each subcatchment parameter\n",
    "parameter_combinations = list(itertools.product(\n",
    "    itertools.product(area, repeat=num_subcatchments),\n",
    "    itertools.product(imperviousness, repeat=num_subcatchments),\n",
    "    itertools.product(slope, repeat=num_subcatchments),\n",
    "    itertools.product(max_rate, repeat=num_subcatchments),\n",
    "    itertools.product(min_rate, repeat=num_subcatchments),\n",
    "    itertools.product(n_imperv, repeat=num_subcatchments),\n",
    "    itertools.product(n_perv, repeat=num_subcatchments),\n",
    "    itertools.product(s_imperv, repeat=num_subcatchments),\n",
    "    itertools.product(s_perv, repeat=num_subcatchments)\n",
    "))\n",
    "\n",
    "# Limit the number of combinations due to memory constraints (optional)\n",
    "sample_size = min(len(parameter_combinations), 100)\n",
    "random_sample_combinations = random.sample(parameter_combinations, sample_size)\n",
    "\n",
    "# Combine with rainfall patterns\n",
    "combinations = []\n",
    "for params in random_sample_combinations:\n",
    "    rainfall_pattern = random.choice(rainfall_patterns)\n",
    "    combination = (rainfall_pattern,) + params\n",
    "    combinations.append(combination)\n",
    "\n",
    "# Convert to DataFrame\n",
    "df = pd.DataFrame(combinations, columns=[\n",
    "    'Rainfall Time Series',\n",
    "    'Area (acres)',\n",
    "    '% Impervious',\n",
    "    'Slope (%)',\n",
    "    'Max Infiltration Rate (in/hr)',\n",
    "    'Min Infiltration Rate (in/hr)',\n",
    "    'Manning\\'s n (Impervious)',\n",
    "    'Manning\\'s n (Pervious)',\n",
    "    'Depressional Storage (Impervious, in)',\n",
    "    'Depressional Storage (Pervious, in)'\n",
    "])\n"
   ]
  },
  {
   "cell_type": "code",
   "execution_count": null,
   "metadata": {},
   "outputs": [],
   "source": []
  },
  {
   "cell_type": "markdown",
   "metadata": {},
   "source": [
    "# Get the labels (that is the run off volume)"
   ]
  },
  {
   "cell_type": "markdown",
   "metadata": {},
   "source": []
  }
 ],
 "metadata": {
  "kernelspec": {
   "display_name": "PySWMM Environment",
   "language": "python",
   "name": "pyswmm_env"
  },
  "language_info": {
   "codemirror_mode": {
    "name": "ipython",
    "version": 3
   },
   "file_extension": ".py",
   "mimetype": "text/x-python",
   "name": "python",
   "nbconvert_exporter": "python",
   "pygments_lexer": "ipython3",
   "version": "3.9.19"
  }
 },
 "nbformat": 4,
 "nbformat_minor": 2
}
